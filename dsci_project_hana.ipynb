{
 "cells": [
  {
   "cell_type": "markdown",
   "id": "af46603a-3246-433d-9735-1b315afc9f4d",
   "metadata": {},
   "source": [
    "# Predicting Usage of a Video Game Research Server"
   ]
  },
  {
   "cell_type": "markdown",
   "id": "a0709e03-6cb6-4067-b50b-41f824913f27",
   "metadata": {},
   "source": [
    "## Introduction:"
   ]
  },
  {
   "cell_type": "markdown",
   "id": "7349f83d-7aab-44a8-806e-a54461a0c202",
   "metadata": {},
   "source": [
    "### Background:\n",
    "A Computer Science research group at UBC has set up a Minecraft server to learn about how people play video games. They are hoping to run their server smoothly, and gain insight on different players, and how they play the game. To do this, they have collected data on player data and gaming sessions. These datasets include things like player experience, whether they are subscribed to a game-related newsletter, session start and end time, and more. For this project I will be analyzing what characteristics of players can predict whether they are likely to subscribe to a game-related newsletter. Knowing this information could help the research group better understand players' engagement to the game, and tailor their newsletter's according to the audience. "
   ]
  },
  {
   "cell_type": "markdown",
   "id": "fef62d78-5e20-4d5b-a673-eaeb31787a3a",
   "metadata": {},
   "source": [
    "### Question:"
   ]
  },
  {
   "cell_type": "code",
   "execution_count": 2,
   "id": "51ed9fa6-cc45-49db-a068-7640eec31c9d",
   "metadata": {},
   "outputs": [
    {
     "ename": "ERROR",
     "evalue": "Error in parse(text = x, srcfile = src): <text>:1:5: unexpected symbol\n1: Can player\n        ^\n",
     "output_type": "error",
     "traceback": [
      "Error in parse(text = x, srcfile = src): <text>:1:5: unexpected symbol\n1: Can player\n        ^\nTraceback:\n"
     ]
    }
   ],
   "source": [
    "Can player experience and played hours predict whether they are likely to subscribe to a game-related newsletter in the players dataset?"
   ]
  },
  {
   "cell_type": "markdown",
   "id": "eacc0df2-199f-4c16-bd0a-19a0643a824c",
   "metadata": {},
   "source": [
    "### Data Description:"
   ]
  },
  {
   "cell_type": "markdown",
   "id": "8cb4f832-8dc3-4c80-8c11-4dab83025528",
   "metadata": {},
   "source": [
    "To answer this question, I decided to use the players.csv dataset. This data set contains 196 rows, or observations, and 7 columns, or variables.  \n",
    "\n",
    "The variables are:\n",
    "- experience\n",
    "  - given in the data type \"character\"\n",
    "  - Tells us the player's experience in the game\n",
    "- subscribe\n",
    "  - given in the data type \"logical\"\n",
    "  - Tells us whether or not the player is subscribed to the newsletter\n",
    "- hashedEmail\n",
    "  - given in the data type \"character\"\n",
    "  - Provides us with the player's email (hashed)\n",
    "- played_hours\n",
    "  - given in the data type \"double\"\n",
    "  - Tells us how many hours the player has spent playing on the server\n",
    "- name\n",
    "  - given in the data type \"character\"\n",
    "  - Tells us the player's name\n",
    "- gender\n",
    "  - given in the data type \"character\"\n",
    "  - Tells us the player's gender\n",
    "- Age\n",
    "  - given in the data type \"double\"\n",
    "  - Tells us the player's age\n",
    "\n",
    "About the data:\n",
    "- Potential issues:\n",
    "  - Hashed email is not human readable\n",
    "  - Few numerical values\n",
    "- For this project, I will be looking at the experience, played_hours, and newsletter columns"
   ]
  },
  {
   "cell_type": "code",
   "execution_count": null,
   "id": "eb74ead2-73e1-46b6-a725-dc34601456c1",
   "metadata": {},
   "outputs": [],
   "source": [
    "library(tidyverse)"
   ]
  },
  {
   "cell_type": "code",
   "execution_count": null,
   "id": "230c4052-3f19-4b95-8c64-810bf2e2192a",
   "metadata": {},
   "outputs": [],
   "source": [
    "players <- read_csv(\"data/players.csv\")\n",
    "players"
   ]
  },
  {
   "cell_type": "markdown",
   "id": "3f48f0ca-e7fe-4eab-827d-03ddaa631a22",
   "metadata": {},
   "source": [
    "## Methods and Results:"
   ]
  },
  {
   "cell_type": "markdown",
   "id": "845d0035-57e7-45e6-81a6-93353f6e5f9e",
   "metadata": {},
   "source": [
    "### Methods:"
   ]
  },
  {
   "cell_type": "markdown",
   "id": "1e3975bf-4877-4611-ab40-e1e31a40089b",
   "metadata": {},
   "source": [
    "### Results: "
   ]
  },
  {
   "cell_type": "markdown",
   "id": "ca733c8b-0a3f-4eca-8e3b-2abf47c45e01",
   "metadata": {},
   "source": [
    "## Discussion"
   ]
  },
  {
   "cell_type": "markdown",
   "id": "29ff49f7-e2c5-4af5-9fac-d40c79eaeb3a",
   "metadata": {},
   "source": []
  }
 ],
 "metadata": {
  "kernelspec": {
   "display_name": "R",
   "language": "R",
   "name": "ir"
  },
  "language_info": {
   "codemirror_mode": "r",
   "file_extension": ".r",
   "mimetype": "text/x-r-source",
   "name": "R",
   "pygments_lexer": "r",
   "version": "4.3.3"
  }
 },
 "nbformat": 4,
 "nbformat_minor": 5
}
